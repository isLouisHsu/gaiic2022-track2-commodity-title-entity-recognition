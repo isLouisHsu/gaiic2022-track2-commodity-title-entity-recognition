{
 "cells": [
  {
   "cell_type": "code",
   "execution_count": null,
   "metadata": {},
   "outputs": [],
   "source": [
    "!nvidia-smi"
   ]
  },
  {
   "cell_type": "markdown",
   "metadata": {},
   "source": [
    "## 构建目录"
   ]
  },
  {
   "cell_type": "code",
   "execution_count": null,
   "metadata": {},
   "outputs": [],
   "source": [
    "!rm -rf /home/mw/project/*\n",
    "!cp -r /home/mw/input/gcode_2022052329197/项目代码-202205232/gaiic2022-track2-commodity-title-entity-recognition/* /home/mw/project/\n",
    "!cp -r /home/mw/input/track2_contest_5713/train_data/train_data/ /home/mw/project/data/contest_data/\n",
    "!mkdir /home/mw/project/data/contest_data/preliminary_test_a/\n",
    "!mkdir /home/mw/project/data/contest_data/preliminary_test_b/\n",
    "!cp -r /home/mw/input/track2_contest_5713/preliminary/*_A.txt /home/mw/project/data/contest_data/preliminary_test_a/\n",
    "!cp -r /home/mw/input/track2_contest_5713/preliminary/*_B.txt /home/mw/project/data/contest_data/preliminary_test_b/"
   ]
  },
  {
   "cell_type": "markdown",
   "metadata": {},
   "source": [
    "## 安装apex"
   ]
  },
  {
   "cell_type": "code",
   "execution_count": null,
   "metadata": {},
   "outputs": [],
   "source": [
    "%cd /home/mw/project/apex\n",
    "!pip install -v --disable-pip-version-check --no-cache-dir ./ --user\n",
    "%cd /home/mw/project/\n",
    "!rm -rf apex/"
   ]
  },
  {
   "cell_type": "markdown",
   "metadata": {},
   "source": [
    "## 继续预训练（阶段一）"
   ]
  },
  {
   "cell_type": "code",
   "execution_count": null,
   "metadata": {},
   "outputs": [],
   "source": [
    "%cd /home/mw/project/code\n",
    "!rm -rf /home/mw/project/data/pretrain_model/nezha_pretrain_v2/\n",
    "!python run_pretrain_nezha_v2.py"
   ]
  },
  {
   "cell_type": "code",
   "execution_count": null,
   "metadata": {},
   "outputs": [],
   "source": [
    "!ls /home/mw/temp/nezha_pretrain_v2/checkpoint-36000/"
   ]
  },
  {
   "cell_type": "code",
   "execution_count": null,
   "metadata": {},
   "outputs": [],
   "source": [
    "!mkdir /home/mw/project/data/pretrain_model/nezha_pretrain_v2/\n",
    "!cp -r /home/mw/temp/nezha_pretrain_v2/checkpoint-36000/ /home/mw/project/data/pretrain_model/nezha_pretrain_v2/"
   ]
  },
  {
   "cell_type": "markdown",
   "metadata": {},
   "source": [
    "## 继续预训练（阶段二）"
   ]
  },
  {
   "cell_type": "code",
   "execution_count": null,
   "metadata": {},
   "outputs": [],
   "source": [
    "%cd /home/mw/project/code\n",
    "!rm -rf /home/mw/project/data/pretrain_model/nezha_pretrain_v3/\n",
    "!python run_pretrain_nezha_v3.py"
   ]
  },
  {
   "cell_type": "code",
   "execution_count": null,
   "metadata": {},
   "outputs": [],
   "source": [
    "!ls /home/mw/temp/nezha_pretrain_v3/checkpoint-7800/"
   ]
  },
  {
   "cell_type": "code",
   "execution_count": null,
   "metadata": {},
   "outputs": [],
   "source": [
    "!mkdir /home/mw/project/data/pretrain_model/nezha_pretrain_v3/\n",
    "!cp -r /home/mw/temp/nezha_pretrain_v3/checkpoint-7800/ /home/mw/project/data/pretrain_model/nezha_pretrain_v3/"
   ]
  },
  {
   "cell_type": "markdown",
   "metadata": {},
   "source": [
    "## 模型微调"
   ]
  },
  {
   "cell_type": "code",
   "execution_count": null,
   "metadata": {},
   "outputs": [],
   "source": [
    "!python kfold_split_data.py\n",
    "!ls /home/mw/temp/10_folds_data/"
   ]
  },
  {
   "cell_type": "code",
   "execution_count": null,
   "metadata": {},
   "outputs": [],
   "source": [
    "%cd /home/mw/project/code\n",
    "!python exp_gaiic_global_pointer_v2.py \\\n",
    "   --experiment_code=experiment_bert_base_fold0_gp_v2_pre_v73 \\\n",
    "   --task_name=gaiic \\\n",
    "   --model_type=nezha \\\n",
    "   --do_lower_case \\\n",
    "   --pretrained_model_path=/home/mw/temp/nezha_pretrain_v3/checkpoint-7800/ \\\n",
    "   --data_dir=/home/mw/temp/10_folds_data/ \\\n",
    "   --train_input_file=train.all.jsonl \\\n",
    "   --eval_input_file=dev.0.jsonl \\\n",
    "   --output_dir=/home/mw/project/data/model_data/ \\\n",
    "   --do_train \\\n",
    "   --save_best \\\n",
    "   --test_input_file=../test_submit_dev_0.txt \\\n",
    "   --eval_checkpoint_path=/home/mw/project/data/best_model \\\n",
    "   --submit_file_path=/home/mw/project/results.txt \\\n",
    "   --evaluate_during_training \\\n",
    "   --train_max_seq_length=128 \\\n",
    "   --eval_max_seq_length=128 \\\n",
    "   --test_max_seq_length=128 \\\n",
    "   --per_gpu_train_batch_size=16 \\\n",
    "   --per_gpu_eval_batch_size=32 \\\n",
    "   --per_gpu_test_batch_size=32 \\\n",
    "   --gradient_accumulation_steps=1 \\\n",
    "   --learning_rate=3e-5 \\\n",
    "   --other_learning_rate=1e-3 \\\n",
    "   --weight_decay=0.001 \\\n",
    "   --scheduler_type=cosine \\\n",
    "   --base_model_name=bert \\\n",
    "   --warmup_proportion=0.1 \\\n",
    "   --max_grad_norm=1.0 \\\n",
    "   --num_train_epochs=10 \\\n",
    "   --use_rope \\\n",
    "   --do_lstm \\\n",
    "   --do_fgm \\\n",
    "   --num_lstm_layers=2 \\\n",
    "   --adam_epsilon=1e-8 \\\n",
    "   --post_lstm_dropout=0.5 \\\n",
    "   --inner_dim=64 \\\n",
    "   --loss_type=pcl \\\n",
    "   --pcl_epsilon=2.5 \\\n",
    "   --pcl_alpha=1.5 \\\n",
    "   --do_awp \\\n",
    "   --awp_epoch=2 \\\n",
    "   --awp_lr=0.1 \\\n",
    "   --do_rdrop \\\n",
    "   --rdrop_weight=0.4 \\\n",
    "   --rdrop_epoch=1 \\\n",
    "   --seed=42 \\\n",
    "   --fp16"
   ]
  }
 ],
 "metadata": {
  "kernelspec": {
   "display_name": "Python 3",
   "language": "python",
   "name": "python3"
  },
  "language_info": {
   "codemirror_mode": {
    "name": "ipython",
    "version": 3
   },
   "file_extension": ".py",
   "mimetype": "text/x-python",
   "name": "python",
   "nbconvert_exporter": "python",
   "pygments_lexer": "ipython3",
   "version": "3.8.5"
  }
 },
 "nbformat": 4,
 "nbformat_minor": 2
}
