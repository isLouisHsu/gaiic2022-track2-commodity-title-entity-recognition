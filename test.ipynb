{
 "cells": [
  {
   "cell_type": "code",
   "execution_count": null,
   "metadata": {},
   "outputs": [],
   "source": [
    "%cd /home/mw/project/\n",
    "from submit_result import pred_BIO\n",
    "\n",
    "# 注：\n",
    "# - 由于未挂载复赛测试集，下面以初赛B榜数据集为例推断，需要在复赛测试集上推断时，修改下面路径即可\n",
    "# - 预测结果在/home/mw/project/results.txt\n",
    "path_word = \"/home/mw/project/data/contest_data/preliminary_test_b/word_per_line_preliminary_B.txt\" # 每行为一个字符\n",
    "path_sample = \"/home/mw/project/data/contest_data/preliminary_test_b/sample_per_line_preliminary_B.txt\" # 每行为一个样本\n",
    "pred_BIO(\n",
    "    path_word, path_sample, batch_size = 1,\n",
    "    model_path=\"/home/mw/project/data/model_data/gaiic_nezha_experiment_bert_base_fold0_gp_v2_pre_v73/checkpoint-best/\",\n",
    "    submit_result_file=\"/home/mw/project/results.txt\",\n",
    ")"
   ]
  }
 ],
 "metadata": {
  "kernelspec": {
   "display_name": "Python 3",
   "language": "python",
   "name": "python3"
  },
  "language_info": {
   "codemirror_mode": {
    "name": "ipython",
    "version": 3
   },
   "file_extension": ".py",
   "mimetype": "text/x-python",
   "name": "python",
   "nbconvert_exporter": "python",
   "pygments_lexer": "ipython3",
   "version": "3.8.5"
  }
 },
 "nbformat": 4,
 "nbformat_minor": 2
}
